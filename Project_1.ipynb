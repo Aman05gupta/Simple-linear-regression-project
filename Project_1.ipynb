{
  "nbformat": 4,
  "nbformat_minor": 0,
  "metadata": {
    "colab": {
      "provenance": [],
      "authorship_tag": "ABX9TyN6V80ba69upuGkuY8ht9re",
      "include_colab_link": true
    },
    "kernelspec": {
      "name": "python3",
      "display_name": "Python 3"
    },
    "language_info": {
      "name": "python"
    }
  },
  "cells": [
    {
      "cell_type": "markdown",
      "metadata": {
        "id": "view-in-github",
        "colab_type": "text"
      },
      "source": [
        "<a href=\"https://colab.research.google.com/github/Aman05gupta/Simple-linear-regression-project/blob/main/Project_1.ipynb\" target=\"_parent\"><img src=\"https://colab.research.google.com/assets/colab-badge.svg\" alt=\"Open In Colab\"/></a>"
      ]
    },
    {
      "cell_type": "markdown",
      "source": [
        "**Simple linear regression example**\n",
        "\n",
        "*Example Scenario*:-\n",
        "Imagine you are a data analyst and you want to predict the score a student will get on an exam based on the number of hours they studied."
      ],
      "metadata": {
        "id": "a18PufJwanjl"
      }
    },
    {
      "cell_type": "code",
      "source": [
        "import numpy as np\n",
        "from sklearn.linear_model import LinearRegression\n",
        "import matplotlib.pyplot as plt"
      ],
      "metadata": {
        "id": "u2mp32yUb0cl"
      },
      "execution_count": 1,
      "outputs": []
    },
    {
      "cell_type": "markdown",
      "source": [
        "**Step 1: Collect Data**"
      ],
      "metadata": {
        "id": "y02RzTI6bd_u"
      }
    },
    {
      "cell_type": "code",
      "source": [
        "hours_studied = np.array([1, 2, 3, 4, 5]).reshape(-1, 1)  # Independent variable (X)\n",
        "\n",
        "exam_scores = np.array([50, 55, 65, 70, 75])  # Dependent variable (y)\n"
      ],
      "metadata": {
        "id": "T_peAl7oboyM"
      },
      "execution_count": 2,
      "outputs": []
    },
    {
      "cell_type": "markdown",
      "source": [
        "**Step 2: Create a linear regression model**\n",
        "\n",
        "***Representation of a Relationship:*** The model represents the linear relationship between the independent variable (input, often denoted as X) and the dependent variable (output, often denoted as\n",
        "y).\n",
        "\n",
        "***Mathematical Formula:*** For simple linear regression, the model assumes a linear relationship of the form:\n",
        "      y=β\n",
        "0\n",
        "​\n",
        " +β\n",
        "1\n",
        "​\n",
        " ⋅X+ϵ\n",
        "\n",
        "\n",
        "\n",
        "*   β\n",
        "0\n",
        "​\n",
        "  (intercept) and β\n",
        "1\n",
        "​\n",
        "  (slope) are coefficients determined during model training.\n",
        "*  ϵ is the error term, representing the difference between the predicted y and the actual y.\n",
        "\n",
        "\n",
        "\n",
        "*   **Initialization:** model is now an object that can be used to perform linear regression tasks.\n",
        "*   **Methods:** It provides methods like fit(), predict(), and attributes like coef_ (coefficients) and intercept_ (intercept) to interact with the model.\n",
        "\n",
        "\n",
        "*   **Training:** By calling fit(X, y), you train the model on your data (where X is the independent variable(s) and y is the dependent variable)."
      ],
      "metadata": {
        "id": "SrEM8iebd56z"
      }
    },
    {
      "cell_type": "code",
      "source": [
        "\n",
        "model = LinearRegression()\n"
      ],
      "metadata": {
        "id": "58iD4mEJcR3a"
      },
      "execution_count": 15,
      "outputs": []
    },
    {
      "cell_type": "markdown",
      "source": [
        "**Step 3: Fit the model**\n",
        "\n",
        "The ***fit(hours_studied, exam_scores)*** method in the context of ***LinearRegression()*** from scikit-learn is used to train the model on the provided data, which consists of the independent variable (**hours_studied**) and the dependent variable (**exam_scores**). Let's break down what happens when you call **fit()**:\n",
        "\n",
        "#### Input Data:\n",
        "*   **hours_studied**: This is the independent variable (often denoted as X in mathematical terms) which represents the input data. In simple linear regression, it typically consists of one or more features.\n",
        "*   **exam_scores**: This is the dependent variable (often denoted as y in mathematical terms) which represents the output data or the target variable you want to predict.\n",
        "\n",
        "####Training Process:\n",
        "\n",
        "\n",
        "*   When you call fit(hours_studied, exam_scores), the model learns from the provided data to find the best-fit line that minimizes the difference between the predicted values (based on the line) and the actual values (exam_scores).\n",
        "*   The goal is to estimate the coefficients β0 (intercept) and β1\n",
        "​(slope) in the equation 𝑦=𝛽0+𝛽1⋅𝑋+𝜖, where ϵ is the error term.\n",
        "\n",
        "####Computing Coefficients and Intercept:\n",
        "\n",
        "\n",
        "*   After fitting the model (fit()), the LinearRegression object (model) computes and stores the coefficients (coef_) and intercept (intercept_).\n",
        "*   coef_ gives you the estimated coefficients (slope) 𝛽1 for each feature in hours_studied.\n",
        "\n",
        "\n",
        "*   intercept_ gives you the estimated intercept 𝛽0 where the regression line intercepts the y-axis.\n"
      ],
      "metadata": {
        "id": "tsStv7bKeCtb"
      }
    },
    {
      "cell_type": "code",
      "source": [
        "model.fit(hours_studied, exam_scores)"
      ],
      "metadata": {
        "colab": {
          "base_uri": "https://localhost:8080/",
          "height": 74
        },
        "id": "nXcUQAWfc6nZ",
        "outputId": "8370d05d-bcc8-43d6-f576-fbced7e3b10c"
      },
      "execution_count": 16,
      "outputs": [
        {
          "output_type": "execute_result",
          "data": {
            "text/plain": [
              "LinearRegression()"
            ],
            "text/html": [
              "<style>#sk-container-id-3 {color: black;background-color: white;}#sk-container-id-3 pre{padding: 0;}#sk-container-id-3 div.sk-toggleable {background-color: white;}#sk-container-id-3 label.sk-toggleable__label {cursor: pointer;display: block;width: 100%;margin-bottom: 0;padding: 0.3em;box-sizing: border-box;text-align: center;}#sk-container-id-3 label.sk-toggleable__label-arrow:before {content: \"▸\";float: left;margin-right: 0.25em;color: #696969;}#sk-container-id-3 label.sk-toggleable__label-arrow:hover:before {color: black;}#sk-container-id-3 div.sk-estimator:hover label.sk-toggleable__label-arrow:before {color: black;}#sk-container-id-3 div.sk-toggleable__content {max-height: 0;max-width: 0;overflow: hidden;text-align: left;background-color: #f0f8ff;}#sk-container-id-3 div.sk-toggleable__content pre {margin: 0.2em;color: black;border-radius: 0.25em;background-color: #f0f8ff;}#sk-container-id-3 input.sk-toggleable__control:checked~div.sk-toggleable__content {max-height: 200px;max-width: 100%;overflow: auto;}#sk-container-id-3 input.sk-toggleable__control:checked~label.sk-toggleable__label-arrow:before {content: \"▾\";}#sk-container-id-3 div.sk-estimator input.sk-toggleable__control:checked~label.sk-toggleable__label {background-color: #d4ebff;}#sk-container-id-3 div.sk-label input.sk-toggleable__control:checked~label.sk-toggleable__label {background-color: #d4ebff;}#sk-container-id-3 input.sk-hidden--visually {border: 0;clip: rect(1px 1px 1px 1px);clip: rect(1px, 1px, 1px, 1px);height: 1px;margin: -1px;overflow: hidden;padding: 0;position: absolute;width: 1px;}#sk-container-id-3 div.sk-estimator {font-family: monospace;background-color: #f0f8ff;border: 1px dotted black;border-radius: 0.25em;box-sizing: border-box;margin-bottom: 0.5em;}#sk-container-id-3 div.sk-estimator:hover {background-color: #d4ebff;}#sk-container-id-3 div.sk-parallel-item::after {content: \"\";width: 100%;border-bottom: 1px solid gray;flex-grow: 1;}#sk-container-id-3 div.sk-label:hover label.sk-toggleable__label {background-color: #d4ebff;}#sk-container-id-3 div.sk-serial::before {content: \"\";position: absolute;border-left: 1px solid gray;box-sizing: border-box;top: 0;bottom: 0;left: 50%;z-index: 0;}#sk-container-id-3 div.sk-serial {display: flex;flex-direction: column;align-items: center;background-color: white;padding-right: 0.2em;padding-left: 0.2em;position: relative;}#sk-container-id-3 div.sk-item {position: relative;z-index: 1;}#sk-container-id-3 div.sk-parallel {display: flex;align-items: stretch;justify-content: center;background-color: white;position: relative;}#sk-container-id-3 div.sk-item::before, #sk-container-id-3 div.sk-parallel-item::before {content: \"\";position: absolute;border-left: 1px solid gray;box-sizing: border-box;top: 0;bottom: 0;left: 50%;z-index: -1;}#sk-container-id-3 div.sk-parallel-item {display: flex;flex-direction: column;z-index: 1;position: relative;background-color: white;}#sk-container-id-3 div.sk-parallel-item:first-child::after {align-self: flex-end;width: 50%;}#sk-container-id-3 div.sk-parallel-item:last-child::after {align-self: flex-start;width: 50%;}#sk-container-id-3 div.sk-parallel-item:only-child::after {width: 0;}#sk-container-id-3 div.sk-dashed-wrapped {border: 1px dashed gray;margin: 0 0.4em 0.5em 0.4em;box-sizing: border-box;padding-bottom: 0.4em;background-color: white;}#sk-container-id-3 div.sk-label label {font-family: monospace;font-weight: bold;display: inline-block;line-height: 1.2em;}#sk-container-id-3 div.sk-label-container {text-align: center;}#sk-container-id-3 div.sk-container {/* jupyter's `normalize.less` sets `[hidden] { display: none; }` but bootstrap.min.css set `[hidden] { display: none !important; }` so we also need the `!important` here to be able to override the default hidden behavior on the sphinx rendered scikit-learn.org. See: https://github.com/scikit-learn/scikit-learn/issues/21755 */display: inline-block !important;position: relative;}#sk-container-id-3 div.sk-text-repr-fallback {display: none;}</style><div id=\"sk-container-id-3\" class=\"sk-top-container\"><div class=\"sk-text-repr-fallback\"><pre>LinearRegression()</pre><b>In a Jupyter environment, please rerun this cell to show the HTML representation or trust the notebook. <br />On GitHub, the HTML representation is unable to render, please try loading this page with nbviewer.org.</b></div><div class=\"sk-container\" hidden><div class=\"sk-item\"><div class=\"sk-estimator sk-toggleable\"><input class=\"sk-toggleable__control sk-hidden--visually\" id=\"sk-estimator-id-3\" type=\"checkbox\" checked><label for=\"sk-estimator-id-3\" class=\"sk-toggleable__label sk-toggleable__label-arrow\">LinearRegression</label><div class=\"sk-toggleable__content\"><pre>LinearRegression()</pre></div></div></div></div></div>"
            ]
          },
          "metadata": {},
          "execution_count": 16
        }
      ]
    },
    {
      "cell_type": "markdown",
      "source": [
        "**Step 4: Predict for new data points**"
      ],
      "metadata": {
        "id": "zI00jM-KeNXq"
      }
    },
    {
      "cell_type": "code",
      "source": [
        "\n",
        "hours_to_predict = np.array([[6], [7]])  # Predicting scores for 6 and 7 hours\n",
        "predicted_scores = model.predict(hours_to_predict)\n"
      ],
      "metadata": {
        "id": "ds2YKlDwc_Q9"
      },
      "execution_count": 7,
      "outputs": []
    },
    {
      "cell_type": "markdown",
      "source": [
        "**Step 5: Visualize the results**"
      ],
      "metadata": {
        "id": "qernd4aAedi0"
      }
    },
    {
      "cell_type": "code",
      "source": [
        "\n",
        "plt.scatter(hours_studied, exam_scores, color='blue', label='Actual data')\n",
        "plt.plot(hours_studied, model.predict(hours_studied), color='red', label='Fitted line')\n",
        "plt.scatter(hours_to_predict, predicted_scores, color='green', label='Predicted data')\n",
        "plt.xlabel('Hours Studied')\n",
        "plt.ylabel('Exam Score')\n",
        "plt.title('Exam Score Prediction based on Hours Studied')\n",
        "plt.legend()\n",
        "plt.show()"
      ],
      "metadata": {
        "colab": {
          "base_uri": "https://localhost:8080/",
          "height": 472
        },
        "id": "YSSKxiJ3dG2a",
        "outputId": "279901ca-f319-494a-c1bc-5d4ca0f55d72"
      },
      "execution_count": 14,
      "outputs": [
        {
          "output_type": "display_data",
          "data": {
            "text/plain": [
              "<Figure size 640x480 with 1 Axes>"
            ],
            "image/png": "[encoded data removed]"
          },
          "metadata": {}
        }
      ]
    },
    {
      "cell_type": "markdown",
      "source": [
        "**Step 6: Output the coefficients**"
      ],
      "metadata": {
        "id": "jvgmJdxgeiwk"
      }
    },
    {
      "cell_type": "code",
      "source": [
        "\n",
        "print(f'Intercept: {model.intercept_}')\n",
        "print(f'Slope: {model.coef_[0]}')\n"
      ],
      "metadata": {
        "colab": {
          "base_uri": "https://localhost:8080/",
          "height": 0
        },
        "id": "2ptxUXqcdJVL",
        "outputId": "5e95111d-aab7-4bf2-dcef-55c250302d82"
      },
      "execution_count": 9,
      "outputs": [
        {
          "output_type": "stream",
          "name": "stdout",
          "text": [
            "Intercept: 43.5\n",
            "Slope: 6.500000000000001\n"
          ]
        }
      ]
    },
    {
      "cell_type": "markdown",
      "source": [
        "**Step 7: Make predictions**"
      ],
      "metadata": {
        "id": "x8krnaP3enn_"
      }
    },
    {
      "cell_type": "code",
      "source": [
        "\n",
        "print(f'Predicted score for 6 hours: {model.predict([[6]])[0]}')\n",
        "print(f'Predicted score for 7 hours: {model.predict([[7]])[0]}')"
      ],
      "metadata": {
        "colab": {
          "base_uri": "https://localhost:8080/",
          "height": 0
        },
        "id": "vw_KkVnFdMqL",
        "outputId": "e7a0b4f0-1224-4dbc-82d0-7fe229245705"
      },
      "execution_count": 10,
      "outputs": [
        {
          "output_type": "stream",
          "name": "stdout",
          "text": [
            "Predicted score for 6 hours: 82.5\n",
            "Predicted score for 7 hours: 89.0\n"
          ]
        }
      ]
    },
    {
      "cell_type": "code",
      "source": [],
      "metadata": {
        "id": "nyhOxWq_dO2r"
      },
      "execution_count": null,
      "outputs": []
    }
  ]
}